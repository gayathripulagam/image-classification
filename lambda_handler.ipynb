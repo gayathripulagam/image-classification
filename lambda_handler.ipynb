{
 "cells": [
  {
   "cell_type": "code",
   "execution_count": 1,
   "metadata": {},
   "outputs": [],
   "source": [
    "import boto3"
   ]
  },
  {
   "cell_type": "code",
   "execution_count": null,
   "metadata": {},
   "outputs": [],
   "source": [
    "def lambda_handler(event, context):\n",
    "    # create sagemaker client using boto3\n",
    "    client = boto3.client('sagemaker-runtime')\n",
    "\n",
    "    # Specify endpoint and content_type\n",
    "    endpoint_name = \"sagemaker-sklearn-2020-12-01-01-29-15-784\"\n",
    "    \n",
    "    #invoking the model's endpoint by sending the formatted data\n",
    "    response = runtime.invoke_endpoint(EndpointName=endpoint_name,\n",
    "                                            ContentType='text/plain',\n",
    "                                            Body= event['body'])\n",
    "    \n",
    "    \n",
    "    #saving the inference from the model in result\n",
    "    result = response['Body'].read().decode('utf-8')\n",
    "    \n",
    "    return{\n",
    "        'statusCode' : 200,\n",
    "        'headers':{'Content-Type':'text/plain','Access-Control-Allow-Origin' : '*''},\n",
    "        'body':result\n",
    "    }"
   ]
  }
 ],
 "metadata": {
  "kernelspec": {
   "display_name": "conda_python3",
   "language": "python",
   "name": "conda_python3"
  },
  "language_info": {
   "codemirror_mode": {
    "name": "ipython",
    "version": 3
   },
   "file_extension": ".py",
   "mimetype": "text/x-python",
   "name": "python",
   "nbconvert_exporter": "python",
   "pygments_lexer": "ipython3",
   "version": "3.6.10"
  }
 },
 "nbformat": 4,
 "nbformat_minor": 4
}
